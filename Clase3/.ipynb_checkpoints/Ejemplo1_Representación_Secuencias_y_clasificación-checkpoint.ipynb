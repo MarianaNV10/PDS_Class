{
 "cells": [
  {
   "cell_type": "markdown",
   "metadata": {},
   "source": [
    "# Ejemplo 1: Representación de secuencias y clasificación\n",
    "### Mariana Noreña Vásquez\n",
    "### CC 1000411870"
   ]
  },
  {
   "cell_type": "code",
   "execution_count": 1,
   "metadata": {},
   "outputs": [],
   "source": [
    "import numpy as np\n",
    "import matplotlib.pyplot as plt\n",
    "%matplotlib inline"
   ]
  },
  {
   "cell_type": "markdown",
   "metadata": {},
   "source": [
    "- En este ejemplo se va a implementar un tipo de representación de secuencias (En Secuencia) y seguidamente se clasificará por   su periodicidad y si es impar o no."
   ]
  },
  {
   "cell_type": "code",
   "execution_count": 2,
   "metadata": {},
   "outputs": [
    {
     "name": "stdout",
     "output_type": "stream",
     "text": [
      "Secuencia \n",
      "[2 1 2 0 5 5 0 4 1 0 1 1 2]\n"
     ]
    }
   ],
   "source": [
    "cant = 13\n",
    "Xn = np.random.randint(0,6,cant) \n",
    "print(f'Secuencia \\n{Xn}')"
   ]
  },
  {
   "cell_type": "markdown",
   "metadata": {},
   "source": [
    "- Cabe destacar que la muestra **n=0** se sitúa en, aproximademente, la mitad de la secuencia para poder entender mejor el comportamiento del sistema"
   ]
  },
  {
   "cell_type": "code",
   "execution_count": 4,
   "metadata": {},
   "outputs": [
    {
     "name": "stderr",
     "output_type": "stream",
     "text": [
      "C:\\Users\\mari1\\Anaconda3\\envs\\p37\\lib\\site-packages\\ipykernel_launcher.py:4: UserWarning: In Matplotlib 3.3 individual lines on a stem plot will be added as a LineCollection instead of individual lines. This significantly improves the performance of a stem plot. To remove this warning and switch to the new behaviour, set the \"use_line_collection\" keyword argument to True.\n",
      "  after removing the cwd from sys.path.\n"
     ]
    },
    {
     "data": {
      "image/png": "[encoded data removed]",
      "text/plain": [
       "<Figure size 1440x360 with 1 Axes>"
      ]
     },
     "metadata": {
      "needs_background": "light"
     },
     "output_type": "display_data"
    }
   ],
   "source": [
    "n = np.arange(-int(cant/2.0), int(cant/2.0)+1, 1)\n",
    "\n",
    "plt.figure(figsize=(20,5))\n",
    "plt.stem(n,Xn)\n",
    "plt.title('En secuencia', fontsize=20)\n",
    "plt.xlabel('Samples', fontsize=18)\n",
    "plt.ylabel('Amplitude', fontsize=18)\n",
    "plt.grid()"
   ]
  },
  {
   "cell_type": "markdown",
   "metadata": {},
   "source": [
    "<b>De la gráfica anterior, se puede observar que es una señal aperiódica debido a que no se le puede detectar ningún patrón de repetición (periodo), así mismo, es una señal impar porque no cumple $$x(n)=-x(n)$$ y porque, además, la amplitud en la muestra n=0 es cero.<b>"
   ]
  }
 ],
 "metadata": {
  "kernelspec": {
   "display_name": "Python 3",
   "language": "python",
   "name": "python3"
  },
  "language_info": {
   "codemirror_mode": {
    "name": "ipython",
    "version": 3
   },
   "file_extension": ".py",
   "mimetype": "text/x-python",
   "name": "python",
   "nbconvert_exporter": "python",
   "pygments_lexer": "ipython3",
   "version": "3.7.4"
  }
 },
 "nbformat": 4,
 "nbformat_minor": 2
}
