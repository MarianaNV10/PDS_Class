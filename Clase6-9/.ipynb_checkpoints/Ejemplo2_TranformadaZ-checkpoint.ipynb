{
 "cells": [
  {
   "cell_type": "markdown",
   "metadata": {},
   "source": [
    "## Ejemplo Transformada Z y ROC\n",
    "### Mariana Noreña Vásquez\n",
    "### CC 1000411870"
   ]
  },
  {
   "cell_type": "code",
   "execution_count": 1,
   "metadata": {},
   "outputs": [],
   "source": [
    "import numpy as np\n",
    "import sympy as sym\n",
    "import matplotlib.pyplot as plt\n",
    "%matplotlib inline"
   ]
  },
  {
   "cell_type": "markdown",
   "metadata": {},
   "source": [
    "Se tiene la siguiente señal: $$x[n]=(\\frac{1}{2})^{n+1}u(n)$$"
   ]
  },
  {
   "cell_type": "code",
   "execution_count": 2,
   "metadata": {},
   "outputs": [
    {
     "data": {
      "text/latex": [
       "$\\displaystyle \\frac{\\begin{cases} \\frac{1}{1 - \\frac{1}{2 z}} & \\text{for}\\: \\frac{1}{\\left|{z}\\right|} < 2 \\\\\\sum_{n=0}^{\\infty} 2^{- n} z^{- n} & \\text{otherwise} \\end{cases}}{2}$"
      ],
      "text/plain": [
       "Piecewise((1/(1 - 1/(2*z)), 1/Abs(z) < 2), (Sum(1/(2**n*z**n), (n, 0, oo)), True))/2"
      ]
     },
     "execution_count": 2,
     "metadata": {},
     "output_type": "execute_result"
    }
   ],
   "source": [
    "z = sym.symbols('z')\n",
    "n = sym.symbols('n', positive=True)\n",
    "u = sym.Heaviside(n)\n",
    "xn = (sym.Rational(1/2)**(n+1))*u\n",
    "mul = xn*z**(-n)\n",
    "\n",
    "xz = sym.summation(mul,(n,0,sym.oo))\n",
    "xz"
   ]
  },
  {
   "cell_type": "markdown",
   "metadata": {},
   "source": [
    "Se observa que la transformada de **x[n]** es: $$\\frac{1}{2}*\\frac{1}{1-\\frac{z^-1}{2}}$$\n",
    "\n",
    "Y, además, la ROC de esta transformada es: $$|z|>\\frac{1}{2}$$"
   ]
  },
  {
   "cell_type": "markdown",
   "metadata": {},
   "source": [
    "De lo anterio, se puede observar que la señal es causal porque la ROC abarca desde **0.5** (sin tenerlo en cuenta) hacia afuera y es estable porque el círculo unitario está dentro de dicha ROC."
   ]
  },
  {
   "cell_type": "markdown",
   "metadata": {},
   "source": [
    "Se tiene como otro ejemplo la siguiente señal:\n",
    "$$x[n]=(6)^{-n}u(n-3)$$"
   ]
  },
  {
   "cell_type": "code",
   "execution_count": 3,
   "metadata": {},
   "outputs": [
    {
     "data": {
      "text/latex": [
       "$\\displaystyle \\begin{cases} \\frac{1}{216 z^{3} \\cdot \\left(1 - \\frac{1}{6 z}\\right)} & \\text{for}\\: \\frac{1}{\\left|{z}\\right|} < 6 \\\\\\sum_{n=0}^{\\infty} 6^{- n} z^{- n} \\theta\\left(n - 3\\right) & \\text{otherwise} \\end{cases}$"
      ],
      "text/plain": [
       "Piecewise((1/(216*z**3*(1 - 1/(6*z))), 1/Abs(z) < 6), (Sum(Heaviside(n - 3)/(6**n*z**n), (n, 0, oo)), True))"
      ]
     },
     "execution_count": 3,
     "metadata": {},
     "output_type": "execute_result"
    }
   ],
   "source": [
    "z = sym.symbols('z')\n",
    "n = sym.symbols('n', positive=True)\n",
    "u = sym.Heaviside(n-3)\n",
    "xn = (sym.Rational(6)**(-n))*u\n",
    "mul = xn*z**(-n)\n",
    "\n",
    "xz = sym.summation(mul,(n,0,sym.oo))\n",
    "xz"
   ]
  },
  {
   "cell_type": "code",
   "execution_count": 4,
   "metadata": {},
   "outputs": [
    {
     "data": {
      "text/latex": [
       "$\\displaystyle \\left( \\frac{1}{36 z^{2} \\cdot \\left(6 z - 1\\right)}, \\  \\frac{1}{\\left|{z}\\right|} < 6\\right)$"
      ],
      "text/plain": [
       "(1/(36*z**2*(6*z - 1)), 1/Abs(z) < 6)"
      ]
     },
     "execution_count": 4,
     "metadata": {},
     "output_type": "execute_result"
    }
   ],
   "source": [
    "xz.args[0].simplify()"
   ]
  },
  {
   "cell_type": "markdown",
   "metadata": {},
   "source": [
    "Como el ejemplo anterior, se tiene que es causal y estable pese a que la señal esté desplazada"
   ]
  },
  {
   "cell_type": "markdown",
   "metadata": {},
   "source": [
    "Ahora se analizará el comportamiento de una señal anti-causal:\n",
    "$$x[n]=(2)^{-n}u(-n)$$"
   ]
  },
  {
   "cell_type": "code",
   "execution_count": 5,
   "metadata": {},
   "outputs": [
    {
     "data": {
      "text/latex": [
       "$\\displaystyle \\begin{cases} \\frac{1}{1 - \\frac{z}{2}} & \\text{for}\\: \\left|{z}\\right| < 2 \\\\\\sum_{n=0}^{\\infty} 2^{- n} z^{n} & \\text{otherwise} \\end{cases}$"
      ],
      "text/plain": [
       "Piecewise((1/(1 - z/2), Abs(z) < 2), (Sum(z**n/2**n, (n, 0, oo)), True))"
      ]
     },
     "execution_count": 5,
     "metadata": {},
     "output_type": "execute_result"
    }
   ],
   "source": [
    "z = sym.symbols('z')\n",
    "n = sym.symbols('n', positive=True)\n",
    "u = sym.Heaviside(n)\n",
    "xn = (sym.Rational(2)**(-n))*u\n",
    "mul = xn*z**(n)\n",
    "\n",
    "xz = sym.summation(mul,(n,0,sym.oo))\n",
    "xz"
   ]
  },
  {
   "cell_type": "code",
   "execution_count": 6,
   "metadata": {},
   "outputs": [
    {
     "data": {
      "text/latex": [
       "$\\displaystyle \\left( - \\frac{2}{z - 2}, \\  \\left|{z}\\right| < 2\\right)$"
      ],
      "text/plain": [
       "(-2/(z - 2), Abs(z) < 2)"
      ]
     },
     "execution_count": 6,
     "metadata": {},
     "output_type": "execute_result"
    }
   ],
   "source": [
    "xz.args[0].simplify()"
   ]
  },
  {
   "cell_type": "markdown",
   "metadata": {},
   "source": [
    "Se puede decir que el sistema es anti-causal como se esperaba dado que la región va hacía dentro, así mismo, es estable porque el círculo unitario está incluido en el ROC, sin embargo, si el valor de la ecuación que va elevado a la n (en este caso -n) fuese más pequeño que 1 el sistema sería inestable."
   ]
  }
 ],
 "metadata": {
  "kernelspec": {
   "display_name": "Python 3",
   "language": "python",
   "name": "python3"
  },
  "language_info": {
   "codemirror_mode": {
    "name": "ipython",
    "version": 3
   },
   "file_extension": ".py",
   "mimetype": "text/x-python",
   "name": "python",
   "nbconvert_exporter": "python",
   "pygments_lexer": "ipython3",
   "version": "3.7.4"
  }
 },
 "nbformat": 4,
 "nbformat_minor": 2
}
